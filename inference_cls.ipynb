{
 "cells": [
  {
   "cell_type": "code",
   "execution_count": 1,
   "id": "46cfdf34-bdea-4a1e-b688-87e9781977a1",
   "metadata": {},
   "outputs": [
    {
     "name": "stdout",
     "output_type": "stream",
     "text": [
      "cuda:0\n"
     ]
    }
   ],
   "source": [
    "import numpy as np\n",
    "import torch\n",
    "import argparse\n",
    "from torchmetrics import Accuracy\n",
    "\n",
    "from torch.utils.data import DataLoader\n",
    "\n",
    "from argparse import ArgumentParser\n",
    "\n",
    "from change_detection_pytorch.datasets import UCMerced, build_transform\n",
    "\n",
    "from dataclasses import dataclass\n",
    "\n",
    "from matplotlib import pyplot as plt\n",
    "from tqdm import tqdm\n",
    "\n",
    "import train_classifier as tr_cls"
   ]
  },
  {
   "cell_type": "code",
   "execution_count": 2,
   "id": "f680726d-f0c3-450d-8c01-0debaec37867",
   "metadata": {},
   "outputs": [],
   "source": [
    "@dataclass\n",
    "class Args:\n",
    "    device: int = 1\n",
    "    experiment_name: str = 'tmp'\n",
    "    \n",
    "    backbone_name: str = 'ibot-B'\n",
    "    encoder_weights: str = 'million_aid_fa'\n",
    "    encoder_depth: int = 12\n",
    "    in_features: int =768\n",
    "    \n",
    "    root: str = '/nfs/ap/mnt/sxtn/classification/datasets/'\n",
    "    base_dir: str = 'UCMerced_LandUse/Images/'\n",
    "    dataset_name: str = 'uc_merced'\n",
    "    num_classes: int = 21\n",
    "    \n",
    "    fusion: str = 'diff'\n",
    "    scale: str = None\n",
    "    mode: str = 'vanilla'\n",
    "    batch_size: int = 32\n",
    "    image_size: int = 256"
   ]
  },
  {
   "cell_type": "code",
   "execution_count": 3,
   "id": "657f47d6-d79e-4bf3-8db7-d360b361f999",
   "metadata": {},
   "outputs": [],
   "source": [
    "checkpoints = [\n",
    "    # '/auto/home/ani/change_detection.pytorch/checkpoints/satlas_head_resisc_mixup/epoch=99.ckpt',\n",
    "    # '/auto/home/ani/change_detection.pytorch/checkpoints/satlas_hr_head_resisc_mixup/epoch=99.ckpt',\n",
    "    '/auto/home/ani/change_detection.pytorch/checkpoints/ibot_scale_ben/epoch=99.ckpt',\n",
    "    # '/auto/home/ani/change_detection.pytorch/checkpoints/ibotIN_head_resisc_mixup/epoch=99.ckpt',\n",
    "    # '/auto/home/ani/change_detection.pytorch/checkpoints/gfm_head_resisc_mixup/epoch=99.ckpt',\n",
    "    # '/auto/home/ani/change_detection.pytorch/checkpoints/dino_head_resisc_mixup/epoch=99.ckpt',\n",
    "]"
   ]
  },
  {
   "cell_type": "code",
   "execution_count": null,
   "id": "09a4a51c-f3b9-419c-a7b0-12e719e2e9be",
   "metadata": {},
   "outputs": [],
   "source": [
    "results = {}\n",
    "scales = ['1x', '2x', '4x', '8x']\n",
    "\n",
    "for checkpoint_path in checkpoints:\n",
    "    args = Args()\n",
    "    if 'dino' in checkpoint_path:\n",
    "        args.backbone_name = 'dino'\n",
    "        args.encoder_weights = ''\n",
    "        args.in_features = 768\n",
    "        args.image_size = 252\n",
    "        \n",
    "    if 'gfm' in checkpoint_path:\n",
    "        args.backbone_name = 'Swin-B'\n",
    "        args.encoder_weights = 'geopile'\n",
    "        args.in_features = 1024\n",
    "        \n",
    "    elif 'satlas' in checkpoint_path:\n",
    "        args.backbone_name = 'Swin-B'\n",
    "        args.encoder_weights = 'satlas'\n",
    "        args.in_features = 1024\n",
    "\n",
    "    if 'resisc' in checkpoint_path:\n",
    "        args.root = \"/nfs/ap/mnt/sxtn/classification/datasets/\"\n",
    "        args.base_dir = \"NWPU-RESISC45/\"\n",
    "        args.dataset_name = \"resisc45\"\n",
    "        args.num_classes = 45\n",
    "            \n",
    "    if 'satlas' in checkpoint_path:\n",
    "        model = tr_cls.Classifier(backbone_name=args.backbone_name, backbone_weights=args.encoder_weights, \n",
    "                                  in_features=args.in_features, num_classes=args.num_classes, \n",
    "                                  lr=0.0, sched='', checkpoint_path=checkpoint_path, only_head='',\n",
    "                                warmup_steps = '', eta_min = '', warmup_start_lr='', weight_decay= '', prefix='encoder', mixup=False)\n",
    "    else:\n",
    "        model = tr_cls.Classifier(backbone_name=args.backbone_name, backbone_weights=args.encoder_weights, \n",
    "                                  in_features=args.in_features, num_classes=args.num_classes, \n",
    "                                  lr=0.0, sched='', checkpoint_path='', only_head='',\n",
    "                                     warmup_steps = '', eta_min = '', warmup_start_lr='', weight_decay= '', mixup=False)\n",
    "    device = 'cuda:0' if torch.cuda.is_available() else 'cpu'\n",
    "    checkpoint = torch.load(checkpoint_path, map_location=device)\n",
    "    if 'satlas' not in checkpoint_path:\n",
    "        model.load_state_dict(checkpoint['state_dict'])\n",
    "\n",
    "    model.eval()\n",
    "    model = model.to(device)\n",
    "    \n",
    "    results[checkpoint_path] = {}\n",
    "    base_dir = args.base_dir\n",
    "    for scale in scales:\n",
    "        if scale != '1x':\n",
    "            args.scale = scale\n",
    "            args.base_dir = base_dir[:-1] + '_' + scale + args.base_dir[-1]\n",
    "            \n",
    "        print(args)\n",
    "\n",
    "        test_transform = build_transform(split='test', image_size = args.image_size)\n",
    "        test_dataset = UCMerced(root=args.root, base_dir=args.base_dir, split='test', transform=test_transform, dataset_name=args.dataset_name)\n",
    "        test_dataloader = DataLoader(dataset=test_dataset, batch_size=256, shuffle=True, num_workers=24)\n",
    "\n",
    "        test_accuracy = Accuracy(task=\"multiclass\", num_classes=args.num_classes).to(device)\n",
    "        with torch.no_grad():\n",
    "            correct_predictions = 0\n",
    "            total_samples = 0\n",
    "            for batch in tqdm(test_dataloader):\n",
    "                x, y = batch\n",
    "                x = x.to(device)\n",
    "                y = y.to(device)\n",
    "                logits = model(x)\n",
    "                batch_accuracy = test_accuracy(torch.argmax(logits, dim=1), y)\n",
    "                correct_predictions += batch_accuracy.item() * len(y)\n",
    "                total_samples += len(y)\n",
    "        \n",
    "            overall_test_accuracy = correct_predictions / total_samples\n",
    "        print(checkpoint_path)\n",
    "        print(f'Test Accuracy: {overall_test_accuracy * 100:.2f}%')\n",
    "        results[checkpoint_path][scale] = overall_test_accuracy * 100\n",
    "print(results)"
   ]
  },
  {
   "cell_type": "code",
   "execution_count": null,
   "id": "77909dea-97b3-49fb-af0c-a8120c5c0cc4",
   "metadata": {},
   "outputs": [],
   "source": []
  },
  {
   "cell_type": "code",
   "execution_count": null,
   "id": "7e698433-2145-4f8c-b444-67062117cfef",
   "metadata": {},
   "outputs": [],
   "source": [
    "satlas_results = list(results[checkpoints[0]].values())\n",
    "satlas_hr_results = list(results[checkpoints[1]].values())\n",
    "ibot_results = list(results[checkpoints[2]].values())\n",
    "ibot_IN_results = list(results[checkpoints[3]].values())\n",
    "gfm_results = list(results[checkpoints[4]].values())\n",
    "dino_results = list(results[checkpoints[5]].values())\n",
    "\n",
    "x_values = ['1/8', '1/4', '1/2', '1']\n",
    "\n",
    "# Plotting the data\n",
    "plt.plot(x_values, satlas_results[::-1], marker='o', color='red', label='Satlas')\n",
    "plt.plot(x_values, satlas_hr_results[::-1], marker='o', color='blue', label='Satlas HR')\n",
    "plt.plot(x_values, ibot_results[::-1], marker='o', color='orange', label='Ibot')\n",
    "plt.plot(x_values, ibot_IN_results[::-1], marker='o', color='green', label='Ibot_IN')\n",
    "plt.plot(x_values, gfm_results[::-1], marker='o', color='m', label='GFM')\n",
    "plt.plot(x_values, dino_results[::-1], marker='o', color='brown', label='DINOv2')\n",
    "\n",
    "\n",
    "# Adding labels and title\n",
    "plt.xlabel('Linear Probing with Mixup RES45')\n",
    "plt.ylabel('Accuracy')\n",
    "# plt.title('Accuracy Comparison between ibot and gfm')\n",
    "plt.legend()\n",
    "\n",
    "# Display the plot\n",
    "plt.show()\n",
    "                 "
   ]
  },
  {
   "cell_type": "code",
   "execution_count": null,
   "id": "177088a6-d0bf-459d-a105-d1eb526c4ec7",
   "metadata": {},
   "outputs": [],
   "source": [
    "formatted_resuls = {k: {} for k in results.keys()}\n",
    "for k in results.keys():\n",
    "    formatted_resuls[k] = {x: round(y, 2) for x, y in results[k].items()}"
   ]
  },
  {
   "cell_type": "code",
   "execution_count": null,
   "id": "1de794c0-3c30-4807-85f4-ad946171975c",
   "metadata": {},
   "outputs": [],
   "source": [
    "formatted_resuls"
   ]
  },
  {
   "cell_type": "code",
   "execution_count": null,
   "id": "2cf68fae-02a3-4626-ac69-82fba9f02fa4",
   "metadata": {},
   "outputs": [],
   "source": [
    "from PIL import Image"
   ]
  },
  {
   "cell_type": "code",
   "execution_count": null,
   "id": "f756cdae-2b80-4c3e-943c-0f042baf7eb3",
   "metadata": {},
   "outputs": [],
   "source": [
    "import os\n",
    "import numpy\n"
   ]
  },
  {
   "cell_type": "code",
   "execution_count": null,
   "id": "2e16b0c7-c6a3-45d9-93ac-764cfc8b4424",
   "metadata": {},
   "outputs": [],
   "source": [
    "os.listdir('/nfs/ap/mnt/sxtn/classification/datasets/UCMerced_LandUse/Images/')"
   ]
  },
  {
   "cell_type": "code",
   "execution_count": null,
   "id": "077b0655-7378-44d3-992b-466776357811",
   "metadata": {},
   "outputs": [],
   "source": [
    "im1 = Image.open('/nfs/ap/mnt/sxtn/classification/datasets/UCMerced_LandUse/Images/harbor/harbor05.tif')\n",
    "im2 = Image.open('/nfs/ap/mnt/sxtn/classification/datasets/UCMerced_LandUse/Images/agricultural/agricultural04.tif')\n",
    "im3 = Image.open('/nfs/ap/mnt/sxtn/classification/datasets/UCMerced_LandUse/Images/baseballdiamond/baseballdiamond15.tif')\n",
    "im4 = Image.open('/nfs/ap/mnt/sxtn/classification/datasets/UCMerced_LandUse/Images/golfcourse/golfcourse12.tif')"
   ]
  },
  {
   "cell_type": "code",
   "execution_count": null,
   "id": "2f6e49d0-5fc1-43bd-8165-b68a9b700d84",
   "metadata": {},
   "outputs": [],
   "source": [
    "im4"
   ]
  },
  {
   "cell_type": "code",
   "execution_count": null,
   "id": "baa87f23-d908-4ced-99a9-23a68d14140c",
   "metadata": {},
   "outputs": [],
   "source": [
    "os.listdir('/nfs/ap/mnt/sxtn/classification/datasets/UCMerced_LandUse/Images/buildings/buildings04.tif')"
   ]
  },
  {
   "cell_type": "code",
   "execution_count": null,
   "id": "e7f89184-1260-4d75-910e-3e1e5f7f6cbc",
   "metadata": {},
   "outputs": [],
   "source": [
    "im3"
   ]
  },
  {
   "cell_type": "code",
   "execution_count": null,
   "id": "6291360b-8132-43d9-9831-15014ab14c14",
   "metadata": {},
   "outputs": [],
   "source": [
    "im4 = Image.open('/mnt/sxtn/aerial/change/LEVIR_CD/test/B/test_119.png')"
   ]
  },
  {
   "cell_type": "code",
   "execution_count": null,
   "id": "4ea5daa8-49c4-4e4d-b7a9-fc4ad5e560b4",
   "metadata": {},
   "outputs": [],
   "source": [
    "im4"
   ]
  },
  {
   "cell_type": "code",
   "execution_count": null,
   "id": "33110ce0-e291-464a-bc90-1b18c3a1c6fb",
   "metadata": {},
   "outputs": [],
   "source": [
    "gt1 = Image.open('/mnt/sxtn/aerial/change/LEVIR_CD/test/OUT/test_119.png')"
   ]
  },
  {
   "cell_type": "code",
   "execution_count": null,
   "id": "e98683fc-a27a-41d5-bd21-6d7a71bb6e41",
   "metadata": {},
   "outputs": [],
   "source": [
    "gt1"
   ]
  },
  {
   "cell_type": "code",
   "execution_count": null,
   "id": "85105b54-fb73-4110-8bd6-974ca83e8815",
   "metadata": {},
   "outputs": [],
   "source": [
    "import matplotlib.pyplot as plt\n"
   ]
  },
  {
   "cell_type": "code",
   "execution_count": null,
   "id": "dbb38054-dff6-4c70-a0f1-9e57e486ada8",
   "metadata": {},
   "outputs": [],
   "source": [
    "imgs = [im1, im2, gt, im3, im4, gt1]\n",
    "_, axs = plt.subplots(2, 3, figsize=(5, 3.5))\n",
    "axs = axs.flatten()\n",
    "for img, ax in zip(imgs, axs):\n",
    "    ax.set_axis_off()\n",
    "    ax.imshow(img, cmap='gray')\n",
    "plt.subplots_adjust(wspace=0.02, hspace=0)\n",
    "\n",
    "plt.show()\n"
   ]
  },
  {
   "cell_type": "code",
   "execution_count": null,
   "id": "f38f2d58-57c5-4f57-8504-0371732906f8",
   "metadata": {},
   "outputs": [],
   "source": []
  }
 ],
 "metadata": {
  "kernelspec": {
   "display_name": "Python 3 (ipykernel)",
   "language": "python",
   "name": "python3"
  },
  "language_info": {
   "codemirror_mode": {
    "name": "ipython",
    "version": 3
   },
   "file_extension": ".py",
   "mimetype": "text/x-python",
   "name": "python",
   "nbconvert_exporter": "python",
   "pygments_lexer": "ipython3",
   "version": "3.12.2"
  }
 },
 "nbformat": 4,
 "nbformat_minor": 5
}
