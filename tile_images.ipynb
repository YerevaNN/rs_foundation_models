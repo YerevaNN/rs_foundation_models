{
 "cells": [
  {
   "cell_type": "code",
   "execution_count": 1,
   "id": "7ce27b81-19a4-4d58-ae86-8fe3ec0f6ffa",
   "metadata": {},
   "outputs": [],
   "source": [
    "from PIL import Image\n",
    "import os"
   ]
  },
  {
   "cell_type": "code",
   "execution_count": 2,
   "id": "1c83a9e7-d3cf-4443-a381-44c8ab355f08",
   "metadata": {},
   "outputs": [],
   "source": [
    "def tile_image(image_path, tile_size, output_folder):\n",
    "    # Open the image\n",
    "    img = Image.open(image_path)\n",
    "    width, height = img.size\n",
    "\n",
    "    # Calculate number of tiles\n",
    "    num_tiles_x = width // tile_size\n",
    "    num_tiles_y = height // tile_size\n",
    "\n",
    "    # Iterate over each tile\n",
    "    for i in range(num_tiles_x):\n",
    "        for j in range(num_tiles_y):\n",
    "            # Calculate tile coordinates\n",
    "            left = i * tile_size\n",
    "            upper = j * tile_size\n",
    "            right = left + tile_size\n",
    "            lower = upper + tile_size\n",
    "\n",
    "            # Crop the tile\n",
    "            tile = img.crop((left, upper, right, lower))\n",
    "\n",
    "            # Construct the output filename with tile coordinates appended\n",
    "            output_filename = os.path.splitext(os.path.basename(image_path))[0] + \\\n",
    "                              f\"_tile_{i}_{j}.png\"\n",
    "            output_path = os.path.join(output_folder, output_filename)\n",
    "\n",
    "            # Save the tile\n",
    "            tile.save(output_path)"
   ]
  },
  {
   "cell_type": "code",
   "execution_count": 5,
   "id": "e8f54399-f243-4dc2-9bb7-e12843731389",
   "metadata": {},
   "outputs": [],
   "source": [
    "# Input folder containing the images\n",
    "input_folder = \"/mnt/sxtn/aerial/change/LEVIR_CD/train/OUT\"\n",
    "# Output folder for the tiles\n",
    "output_folder = \"/mnt/sxtn/aerial/change/LEVIR_CD/train/OUT_cut\"\n",
    "# Tile size\n",
    "tile_size = 256\n",
    "\n",
    "# Create the output folder if it doesn't exist\n",
    "if not os.path.exists(output_folder):\n",
    "    os.makedirs(output_folder)\n",
    "\n",
    "# Iterate over each image in the input folder\n",
    "for filename in os.listdir(input_folder):\n",
    "    if filename.endswith(\".png\") or filename.endswith(\".jpg\"):\n",
    "        image_path = os.path.join(input_folder, filename)\n",
    "        tile_image(image_path, tile_size, output_folder)\n",
    "\n",
    "\n"
   ]
  },
  {
   "cell_type": "code",
   "execution_count": null,
   "id": "89ca7c5e-6879-41d2-9a69-8a92d3fe98a8",
   "metadata": {},
   "outputs": [],
   "source": []
  }
 ],
 "metadata": {
  "kernelspec": {
   "display_name": "Python 3 (ipykernel)",
   "language": "python",
   "name": "python3"
  },
  "language_info": {
   "codemirror_mode": {
    "name": "ipython",
    "version": 3
   },
   "file_extension": ".py",
   "mimetype": "text/x-python",
   "name": "python",
   "nbconvert_exporter": "python",
   "pygments_lexer": "ipython3",
   "version": "3.12.2"
  }
 },
 "nbformat": 4,
 "nbformat_minor": 5
}
