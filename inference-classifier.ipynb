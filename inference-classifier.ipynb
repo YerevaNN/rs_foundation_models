{
 "cells": [
  {
   "cell_type": "code",
   "execution_count": 1,
   "id": "46cfdf34-bdea-4a1e-b688-87e9781977a1",
   "metadata": {},
   "outputs": [
    {
     "name": "stdout",
     "output_type": "stream",
     "text": [
      "cuda:0\n"
     ]
    }
   ],
   "source": [
    "from sklearn import metrics\n",
    "import numpy as np\n",
    "import torch\n",
    "import argparse\n",
    "from collections import namedtuple\n",
    "# import wandb\n",
    "import os\n",
    "from torchmetrics import Accuracy\n",
    "\n",
    "import change_detection_pytorch as cdp\n",
    "from change_detection_pytorch.datasets import LEVIR_CD_Dataset\n",
    "\n",
    "from change_detection_pytorch.encoders._utils import adjust_state_dict_prefix\n",
    "\n",
    "from torch.utils.data import DataLoader\n",
    "\n",
    "from change_detection_pytorch.datasets import ChangeDetectionDataModule\n",
    "from argparse import ArgumentParser\n",
    "\n",
    "from change_detection_pytorch.datasets import UCMerced, build_transform\n",
    "\n",
    "from dataclasses import dataclass\n",
    "\n",
    "from matplotlib import pyplot as plt\n",
    "from tqdm import tqdm\n",
    "\n",
    "import train_classifier as tr_cls"
   ]
  },
  {
   "cell_type": "code",
   "execution_count": null,
   "id": "40c06c62-0a9b-4ab1-90dd-726f5d9cf5e9",
   "metadata": {},
   "outputs": [],
   "source": []
  },
  {
   "cell_type": "code",
   "execution_count": 2,
   "id": "f680726d-f0c3-450d-8c01-0debaec37867",
   "metadata": {},
   "outputs": [],
   "source": [
    "@dataclass\n",
    "class Args:\n",
    "    device: int = 1\n",
    "    experiment_name: str = 'tmp'\n",
    "    \n",
    "    backbone_name: str = 'ibot-B'\n",
    "    encoder_weights: str = 'million_aid_fa'\n",
    "    encoder_depth: int = 12\n",
    "    in_features: int =768\n",
    "    \n",
    "    root: str = '/nfs/ap/mnt/sxtn/classification/datasets/'\n",
    "    base_dir: str = 'UCMerced_LandUse/Images/'\n",
    "    dataset_name: str = 'uc_merced'\n",
    "    num_classes: int = 21\n",
    "    \n",
    "    fusion: str = 'diff'\n",
    "    scale: str = None\n",
    "    mode: str = 'vanilla'\n",
    "    batch_size: int = 32"
   ]
  },
  {
   "cell_type": "code",
   "execution_count": null,
   "id": "63d916d6-a381-4ef4-8702-6d298a9c8c62",
   "metadata": {},
   "outputs": [],
   "source": []
  },
  {
   "cell_type": "code",
   "execution_count": 10,
   "id": "657f47d6-d79e-4bf3-8db7-d360b361f999",
   "metadata": {},
   "outputs": [],
   "source": [
    "checkpoints = [\n",
    "    # '/auto/home/ani/change_detection.pytorch/checkpoints/ibot_fa_merced_mixup/epoch=89.ckpt',\n",
    "    # '/auto/home/ani/change_detection.pytorch/checkpoints/gfm_merced/epoch=99.ckpt',\n",
    "    # '/auto/home/ani/change_detection.pytorch/checkpoints/ibot_imagenet_merced_mixup/epoch=99.ckpt',\n",
    "     # '/auto/home/ani/change_detection.pytorch/checkpoints/satlas_merced/epoch=99.ckpt',   \n",
    "    # '/auto/home/ani/change_detection.pytorch/checkpoints/ibot_fa_resisc/epoch=99.ckpt',\n",
    "    # '/auto/home/ani/change_detection.pytorch/checkpoints/ibot_imagenet_resisc/epoch=99.ckpt',\n",
    "    # '/auto/home/ani/change_detection.pytorch/checkpoints/gfm_resisc/epoch=99.ckpt',\n",
    "    # '/auto/home/ani/change_detection.pytorch/checkpoints/satlas_resisc/epoch=24.ckpt',\n",
    "    # '/auto/home/ani/change_detection.pytorch/checkpoints/satlas_merced/epoch=99-v3.ckpt',\n",
    "    # '/auto/home/ani/change_detection.pytorch/checkpoints/satlas_merced_head/epoch=99.ckpt',\n",
    "    # '/auto/home/ani/change_detection.pytorch/checkpoints/satlas_hr_merced/epoch=99.ckpt',\n",
    "    # '/auto/home/ani/change_detection.pytorch/checkpoints/ibot_merced_all_model/epoch=99.ckpt',\n",
    "    # '/auto/home/ani/change_detection.pytorch/checkpoints/ibot_imagenet_merced_all_model/epoch=99.ckpt',\n",
    "    '/auto/home/ani/change_detection.pytorch/checkpoints/ibot_imagenet_merced_all_model/epoch=99.ckpt',\n",
    "    '/auto/home/ani/change_detection.pytorch/checkpoints/satlas_hr_merced_only_head/epoch=99.ckpt',\n",
    "    '/auto/home/ani/change_detection.pytorch/checkpoints/gfm_merced_all_model/epoch=99.ckpt'\n",
    "]"
   ]
  },
  {
   "cell_type": "code",
   "execution_count": 4,
   "id": "0648fde0-bbbb-4c0e-a9bb-50714052818f",
   "metadata": {},
   "outputs": [],
   "source": [
    "pth = '/auto/home/ani/change_detection.pytorch/checkpoints/satlas_merced/epoch=99-v3.ckpt'\n",
    "checkpoint = torch.load(pth, map_location='cuda' if torch.cuda.is_available() else 'cpu')\n",
    "print(checkpoint['state_dict'].keys())"
   ]
  },
  {
   "cell_type": "code",
   "execution_count": null,
   "id": "f2482c38-1485-483f-b883-450021e5cfd3",
   "metadata": {},
   "outputs": [],
   "source": []
  },
  {
   "cell_type": "code",
   "execution_count": null,
   "id": "e5f97cf9-7371-4069-b253-d4a4925ddde8",
   "metadata": {},
   "outputs": [],
   "source": []
  },
  {
   "cell_type": "code",
   "execution_count": null,
   "id": "09a4a51c-f3b9-419c-a7b0-12e719e2e9be",
   "metadata": {},
   "outputs": [
    {
     "name": "stdout",
     "output_type": "stream",
     "text": [
      "Args(device=1, experiment_name='tmp', backbone_name='ibot-B', encoder_weights='million_aid_fa', encoder_depth=12, in_features=768, root='/nfs/ap/mnt/sxtn/classification/datasets/', base_dir='UCMerced_LandUse/Images/', dataset_name='uc_merced', num_classes=21, fusion='diff', scale=None, mode='vanilla', batch_size=32)\n",
      "_IncompatibleKeys(missing_keys=[], unexpected_keys=['head.mlp.0.weight', 'head.mlp.0.bias', 'head.mlp.2.weight', 'head.mlp.2.bias', 'head.mlp.4.weight', 'head.mlp.4.bias', 'head.last_layer.weight_g', 'head.last_layer.weight_v', 'head.last_layer2.weight_g', 'head.last_layer2.weight_v'])\n"
     ]
    },
    {
     "name": "stderr",
     "output_type": "stream",
     "text": [
      "100%|██████████████████████████████████████████████████████████████████████████████████████████████████████████████████████| 14/14 [01:19<00:00,  5.71s/it]\n"
     ]
    },
    {
     "name": "stdout",
     "output_type": "stream",
     "text": [
      "/auto/home/ani/change_detection.pytorch/checkpoints/ibot_imagenet_merced_all_model/epoch=99.ckpt\n",
      "Test Accuracy: 41.43%\n",
      "Args(device=1, experiment_name='tmp', backbone_name='ibot-B', encoder_weights='million_aid_fa', encoder_depth=12, in_features=768, root='/nfs/ap/mnt/sxtn/classification/datasets/', base_dir='UCMerced_LandUse/Images_2x/', dataset_name='uc_merced', num_classes=21, fusion='diff', scale='2x', mode='vanilla', batch_size=32)\n",
      "_IncompatibleKeys(missing_keys=[], unexpected_keys=['head.mlp.0.weight', 'head.mlp.0.bias', 'head.mlp.2.weight', 'head.mlp.2.bias', 'head.mlp.4.weight', 'head.mlp.4.bias', 'head.last_layer.weight_g', 'head.last_layer.weight_v', 'head.last_layer2.weight_g', 'head.last_layer2.weight_v'])\n"
     ]
    },
    {
     "name": "stderr",
     "output_type": "stream",
     "text": [
      "100%|██████████████████████████████████████████████████████████████████████████████████████████████████████████████████████| 14/14 [01:21<00:00,  5.80s/it]\n"
     ]
    },
    {
     "name": "stdout",
     "output_type": "stream",
     "text": [
      "/auto/home/ani/change_detection.pytorch/checkpoints/ibot_imagenet_merced_all_model/epoch=99.ckpt\n",
      "Test Accuracy: 43.33%\n",
      "Args(device=1, experiment_name='tmp', backbone_name='ibot-B', encoder_weights='million_aid_fa', encoder_depth=12, in_features=768, root='/nfs/ap/mnt/sxtn/classification/datasets/', base_dir='UCMerced_LandUse/Images_4x/', dataset_name='uc_merced', num_classes=21, fusion='diff', scale='4x', mode='vanilla', batch_size=32)\n",
      "_IncompatibleKeys(missing_keys=[], unexpected_keys=['head.mlp.0.weight', 'head.mlp.0.bias', 'head.mlp.2.weight', 'head.mlp.2.bias', 'head.mlp.4.weight', 'head.mlp.4.bias', 'head.last_layer.weight_g', 'head.last_layer.weight_v', 'head.last_layer2.weight_g', 'head.last_layer2.weight_v'])\n"
     ]
    },
    {
     "name": "stderr",
     "output_type": "stream",
     "text": [
      "100%|██████████████████████████████████████████████████████████████████████████████████████████████████████████████████████| 14/14 [01:22<00:00,  5.93s/it]\n"
     ]
    },
    {
     "name": "stdout",
     "output_type": "stream",
     "text": [
      "/auto/home/ani/change_detection.pytorch/checkpoints/ibot_imagenet_merced_all_model/epoch=99.ckpt\n",
      "Test Accuracy: 38.57%\n",
      "Args(device=1, experiment_name='tmp', backbone_name='ibot-B', encoder_weights='million_aid_fa', encoder_depth=12, in_features=768, root='/nfs/ap/mnt/sxtn/classification/datasets/', base_dir='UCMerced_LandUse/Images_8x/', dataset_name='uc_merced', num_classes=21, fusion='diff', scale='8x', mode='vanilla', batch_size=32)\n",
      "_IncompatibleKeys(missing_keys=[], unexpected_keys=['head.mlp.0.weight', 'head.mlp.0.bias', 'head.mlp.2.weight', 'head.mlp.2.bias', 'head.mlp.4.weight', 'head.mlp.4.bias', 'head.last_layer.weight_g', 'head.last_layer.weight_v', 'head.last_layer2.weight_g', 'head.last_layer2.weight_v'])\n"
     ]
    },
    {
     "name": "stderr",
     "output_type": "stream",
     "text": [
      " 29%|██████████████████████████████████                                                                                     | 4/14 [00:26<01:05,  6.50s/it]"
     ]
    }
   ],
   "source": [
    "results = {}\n",
    "scales = ['1x', '2x', '4x', '8x']\n",
    "\n",
    "for checkpoint_path in checkpoints:\n",
    "    results[checkpoint_path] = {}\n",
    "    for scale in scales:\n",
    "        \n",
    "        args = Args()\n",
    "    \n",
    "        if 'gfm' in checkpoint_path:\n",
    "            args.backbone_name = 'Swin-B'\n",
    "            args.encoder_weights = 'geopile'\n",
    "            args.in_features = 1024\n",
    "        elif 'satlas' in checkpoint_path:\n",
    "            args.backbone_name = 'Swin-B'\n",
    "            args.encoder_weights = 'satlas'\n",
    "            args.in_features = 1024\n",
    "\n",
    "        if '_resisc' in checkpoint_path:\n",
    "            args.root = \"/nfs/ap/mnt/sxtn/classification/datasets/\"\n",
    "            args.base_dir = \"NWPU-RESISC45/\"\n",
    "            args.dataset_name = \"resisc45\"\n",
    "            args.num_classes = 45\n",
    "\n",
    "        if scale != '1x':\n",
    "            args.scale = scale\n",
    "            args.base_dir = args.base_dir[:-1] + '_' + scale + args.base_dir[-1]\n",
    "            \n",
    "        print(args)\n",
    "\n",
    "        test_transform = build_transform(split='test')\n",
    "        test_dataset = UCMerced(root=args.root, base_dir=args.base_dir, split='test', transform=test_transform, dataset_name=args.dataset_name)\n",
    "        test_dataloader = DataLoader(dataset=test_dataset, batch_size=32, shuffle=True, num_workers=8)\n",
    "\n",
    "        if 'satlas' in checkpoint_path:\n",
    "            model = tr_cls.Classifier(backbone_name=args.backbone_name, backbone_weights=args.encoder_weights, \n",
    "                                  in_features=args.in_features, num_classes=args.num_classes, \n",
    "                                  lr=0.0, sched='', checkpoint_path=checkpoint_path, only_head='', prefix='encoder')\n",
    "        else:\n",
    "            model = tr_cls.Classifier(backbone_name=args.backbone_name, backbone_weights=args.encoder_weights, \n",
    "                                  in_features=args.in_features, num_classes=args.num_classes, \n",
    "                                  lr=0.0, sched='', checkpoint_path='', only_head='')\n",
    "\n",
    "        checkpoint = torch.load(checkpoint_path, map_location='cuda' if torch.cuda.is_available() else 'cpu')\n",
    "        if 'satlas' not in checkpoint_path:\n",
    "            model.load_state_dict(checkpoint['state_dict'])\n",
    "\n",
    "\n",
    "        model.eval()\n",
    "        \n",
    "        test_accuracy = Accuracy(task=\"multiclass\", num_classes=args.num_classes)\n",
    "\n",
    "        with torch.no_grad():\n",
    "            correct_predictions = 0\n",
    "            total_samples = 0\n",
    "            for batch in tqdm(test_dataloader):\n",
    "                x, y = batch\n",
    "                logits = model(x)\n",
    "                batch_accuracy = test_accuracy(torch.argmax(logits, dim=1), y)\n",
    "                correct_predictions += batch_accuracy.item() * len(y)\n",
    "                total_samples += len(y)\n",
    "        \n",
    "            overall_test_accuracy = correct_predictions / total_samples\n",
    "        print(checkpoint_path)\n",
    "        print(f'Test Accuracy: {overall_test_accuracy * 100:.2f}%')\n",
    "        results[checkpoint_path][scale] = overall_test_accuracy * 100\n",
    "print(results)"
   ]
  },
  {
   "cell_type": "code",
   "execution_count": null,
   "id": "a03dccde-afb1-4fae-be45-04f96c8922fe",
   "metadata": {},
   "outputs": [],
   "source": []
  },
  {
   "cell_type": "code",
   "execution_count": null,
   "id": "74a38cfa-3335-467b-916e-c8cc77ca0397",
   "metadata": {},
   "outputs": [],
   "source": []
  },
  {
   "cell_type": "code",
   "execution_count": null,
   "id": "4f797e54-46ca-4e46-81fe-2c7b319a1b2c",
   "metadata": {},
   "outputs": [],
   "source": []
  },
  {
   "cell_type": "code",
   "execution_count": null,
   "id": "ad08e76c-7256-43d4-9e3c-58aa85c728af",
   "metadata": {},
   "outputs": [],
   "source": []
  },
  {
   "cell_type": "code",
   "execution_count": 7,
   "id": "2f0aa7fa-7882-4980-874f-4027b19dbd63",
   "metadata": {},
   "outputs": [
    {
     "name": "stdout",
     "output_type": "stream",
     "text": [
      "{'/auto/home/ani/change_detection.pytorch/checkpoints/satlas_merced/epoch=99-v3.ckpt': {'1x': 81.66666666666667, '2x': 74.04761904761905, '4x': 47.61904761904761, '8x': 28.57142857142857}, '/auto/home/ani/change_detection.pytorch/checkpoints/satlas_merced_head/epoch=99.ckpt': {'1x': 86.90476190476191, '2x': 80.0, '4x': 52.61904761904762, '8x': 27.142857142857142}, '/auto/home/ani/change_detection.pytorch/checkpoints/satlas_hr_merced/epoch=99.ckpt': {'1x': 97.61904761904762, '2x': 94.76190476190476, '4x': 80.47619047619048, '8x': 35.476190476190474}, '/auto/home/ani/change_detection.pytorch/checkpoints/ibot_merced_all_model/epoch=99.ckpt': {'1x': 67.85714285714286, '2x': 64.76190476190476, '4x': 53.333333333333336, '8x': 32.38095238095238}, '/auto/home/ani/change_detection.pytorch/checkpoints/ibot_imagenet_merced_all_model/epoch=99.ckpt': {'1x': 41.42857142857143, '2x': 43.333333333333336, '4x': 38.57142857142858, '8x': 25.71428571428571}}\n"
     ]
    }
   ],
   "source": [
    "print(results)"
   ]
  },
  {
   "cell_type": "code",
   "execution_count": 9,
   "id": "7e698433-2145-4f8c-b444-67062117cfef",
   "metadata": {},
   "outputs": [
    {
     "data": {
      "image/png": "[encoded data removed]",
      "text/plain": [
       "<Figure size 640x480 with 1 Axes>"
      ]
     },
     "metadata": {},
     "output_type": "display_data"
    }
   ],
   "source": [
    "# UC MERCED NEW RESULTS\n",
    "\n",
    "results_saved = {\n",
    "    '/auto/home/ani/change_detection.pytorch/checkpoints/satlas_merced/epoch=99-v3.ckpt': {\n",
    "        '1x': 81.66666666666667, \n",
    "        '2x': 74.04761904761905, \n",
    "        '4x': 47.61904761904761, \n",
    "        '8x': 28.57142857142857\n",
    "    }, \n",
    "    '/auto/home/ani/change_detection.pytorch/checkpoints/satlas_merced_head/epoch=99.ckpt': {\n",
    "        '1x': 86.90476190476191, \n",
    "        '2x': 80.0, \n",
    "        '4x': 52.61904761904762, \n",
    "        '8x': 27.142857142857142\n",
    "    }, \n",
    "    '/auto/home/ani/change_detection.pytorch/checkpoints/satlas_hr_merced/epoch=99.ckpt': {\n",
    "        '1x': 97.61904761904762, \n",
    "        '2x': 94.76190476190476, \n",
    "        '4x': 80.47619047619048, \n",
    "        '8x': 35.476190476190474\n",
    "    }, \n",
    "    '/auto/home/ani/change_detection.pytorch/checkpoints/ibot_merced_all_model/epoch=99.ckpt': {\n",
    "        '1x': 67.85714285714286, \n",
    "        '2x': 64.76190476190476, \n",
    "        '4x': 53.333333333333336, \n",
    "        '8x': 32.38095238095238\n",
    "    }, \n",
    "    '/auto/home/ani/change_detection.pytorch/checkpoints/ibot_imagenet_merced_all_model/epoch=99.ckpt': {\n",
    "        '1x': 41.42857142857143, \n",
    "        '2x': 43.333333333333336, \n",
    "        '4x': 38.57142857142858, \n",
    "        '8x': 25.71428571428571\n",
    "    }\n",
    "}\n",
    "\n",
    "\n",
    "satlas_results = list(results_saved['/auto/home/ani/change_detection.pytorch/checkpoints/satlas_merced/epoch=99-v3.ckpt'].values())\n",
    "satlas_head_results = list(results_saved['/auto/home/ani/change_detection.pytorch/checkpoints/satlas_merced_head/epoch=99.ckpt'].values())\n",
    "satlas_hr_results = list(results_saved['/auto/home/ani/change_detection.pytorch/checkpoints/satlas_hr_merced/epoch=99.ckpt'].values())\n",
    "ibot_all_model_results = list(results_saved['/auto/home/ani/change_detection.pytorch/checkpoints/ibot_merced_all_model/epoch=99.ckpt'].values())\n",
    "ibot_imagenet_all_model_results = list(results_saved['/auto/home/ani/change_detection.pytorch/checkpoints/ibot_imagenet_merced_all_model/epoch=99.ckpt'].values())\n",
    "\n",
    "x_values = ['1/8', '1/4', '1/2', '1']\n",
    "\n",
    "# Plotting the data\n",
    "plt.plot(x_values, satlas_results[::-1], marker='o', color='red', label='Satlas')\n",
    "plt.plot(x_values, satlas_head_results[::-1], marker='o', color='blue', label='Satlas Head')\n",
    "plt.plot(x_values, satlas_hr_results[::-1], marker='o', color='orange', label='Satlas hr')\n",
    "plt.plot(x_values, ibot_all_model_results[::-1], marker='o', color='m', label='iBot-all-model')\n",
    "plt.plot(x_values, ibot_imagenet_all_model_results[::-1], marker='o', color='c', label='iBot-imagenet-all-model')\n",
    "\n",
    "\n",
    "# Adding labels and title\n",
    "plt.xlabel('Scale ')\n",
    "plt.ylabel('Accuracy')\n",
    "# plt.title('Accuracy Comparison between ibot and gfm')\n",
    "plt.legend()\n",
    "\n",
    "# Display the plot\n",
    "plt.show()\n",
    "                 "
   ]
  },
  {
   "cell_type": "code",
   "execution_count": null,
   "id": "ca66efc4-5bfc-4f67-ab6e-883899541b27",
   "metadata": {},
   "outputs": [],
   "source": []
  },
  {
   "cell_type": "code",
   "execution_count": null,
   "id": "ef24aca9-8891-4352-8432-905eb5eb2d70",
   "metadata": {},
   "outputs": [],
   "source": [
    "# UC MERCED RESULTS\n",
    "\n",
    "results_saved = {\n",
    "    '/auto/home/ani/change_detection.pytorch/checkpoints/ibot_fa_merced_mixup/epoch=89.ckpt': {\n",
    "        '1x': 98.80952380952381,\n",
    "        '2x': 98.33333333333333,\n",
    "        '4x': 50.95238095238095,\n",
    "        '8x': 11.666666666666666\n",
    "    },\n",
    "    '/auto/home/ani/change_detection.pytorch/checkpoints/gfm_merced/epoch=99.ckpt': {\n",
    "        '1x': 94.76190476190476,\n",
    "        '2x': 91.42857142857143,\n",
    "        '4x': 78.0952380952381,\n",
    "        '8x': 43.333333333333336\n",
    "    },\n",
    "    '/auto/home/ani/change_detection.pytorch/checkpoints/ibot_imagenet_merced_mixup/epoch=99.ckpt': {\n",
    "        '1x': 98.09523809523809, \n",
    "        '2x': 98.33333333333333, \n",
    "        '4x': 90.47619047619048, \n",
    "        '8x': 65.23809523809524\n",
    "    },\n",
    "    '/auto/home/ani/change_detection.pytorch/checkpoints/satlas_merced/epoch=99.ckpt': {\n",
    "        '1x': 41.42857142857143, \n",
    "        '2x': 39.76190476190476, \n",
    "        '4x': 36.666666666666664, \n",
    "        '8x': 27.61904761904762\n",
    "    }\n",
    "}\n",
    "\n",
    "ibot_millionAID_results = list(results_saved['/auto/home/ani/change_detection.pytorch/checkpoints/ibot_fa_merced_mixup/epoch=89.ckpt'].values())\n",
    "gfm_results = list(results_saved['/auto/home/ani/change_detection.pytorch/checkpoints/gfm_merced/epoch=99.ckpt'].values())\n",
    "ibot_imagenet_results = list(results_saved['/auto/home/ani/change_detection.pytorch/checkpoints/ibot_imagenet_merced_mixup/epoch=99.ckpt'].values())\n",
    "satlas_results = list(results_saved['/auto/home/ani/change_detection.pytorch/checkpoints/satlas_merced/epoch=99.ckpt'].values())\n",
    "\n",
    "x_values = ['1/8', '1/4', '1/2', '1']\n",
    "\n",
    "# Plotting the data\n",
    "plt.plot(x_values, gfm_results[::-1], marker='o', color='red', label='GFM')\n",
    "plt.plot(x_values, ibot_millionAID_results[::-1], marker='o', color='blue', label='iBot-millionAID')\n",
    "plt.plot(x_values, satlas_results[::-1], marker='o', color='orange', label='Satlas')\n",
    "plt.plot(x_values, ibot_imagenet_results[::-1], marker='o', color='m', label='iBot-imagenet')\n",
    "\n",
    "\n",
    "# Adding labels and title\n",
    "plt.xlabel('Scale ')\n",
    "plt.ylabel('Accuracy')\n",
    "# plt.title('Accuracy Comparison between ibot and gfm')\n",
    "plt.legend()\n",
    "\n",
    "# Display the plot\n",
    "plt.show()"
   ]
  },
  {
   "cell_type": "code",
   "execution_count": null,
   "id": "6e0beaad-461e-4de2-922a-012d38a4564e",
   "metadata": {},
   "outputs": [],
   "source": [
    "# RESISC RESULTS\n",
    "results_saved = {\n",
    "    '/auto/home/ani/change_detection.pytorch/checkpoints/ibot_fa_resisc/epoch=99.ckpt': {\n",
    "        '1x': 93.80952381709265, \n",
    "        '2x': 87.11111111489554, \n",
    "        '4x': 26.619047617155406, \n",
    "        '8x': 7.492063493482651\n",
    "    }, \n",
    "    '/auto/home/ani/change_detection.pytorch/checkpoints/ibot_imagenet_resisc/epoch=99.ckpt': {\n",
    "        '1x': 91.58730158351716, \n",
    "        '2x': 89.44444444822886, \n",
    "        '4x': 74.69841270598154, \n",
    "        '8x': 40.30158729780288\n",
    "    }, \n",
    "    '/auto/home/ani/change_detection.pytorch/checkpoints/gfm_resisc/epoch=99.ckpt': {\n",
    "        '1x': 90.42857143235585, \n",
    "        '2x': 85.4444444368756, \n",
    "        '4x': 64.87301587301587, \n",
    "        '8x': 29.85714285714286\n",
    "    }\n",
    "}\n",
    "\n",
    "ibot_millionAID_results = list(results_saved['/auto/home/ani/change_detection.pytorch/checkpoints/ibot_fa_resisc/epoch=99.ckpt'].values())\n",
    "gfm_results = list(results_saved['/auto/home/ani/change_detection.pytorch/checkpoints/ibot_imagenet_resisc/epoch=99.ckpt'].values())\n",
    "ibot_imagenet_results = list(results_saved['/auto/home/ani/change_detection.pytorch/checkpoints/gfm_resisc/epoch=99.ckpt'].values())\n",
    "\n",
    "x_values = ['1/8', '1/4', '1/2', '1']\n",
    "\n",
    "# Plotting the data\n",
    "plt.plot(x_values, ibot_millionAID_results[::-1], marker='o', color='red', label='ibot-millionAID_results')\n",
    "plt.plot(x_values, gfm_results[::-1], marker='o', color='blue', label='gfm')\n",
    "plt.plot(x_values, ibot_imagenet_results[::-1], marker='o', color='orange', label='ibot-imagenet_results')\n",
    "\n",
    "# Adding labels and title\n",
    "plt.xlabel('Scale ')\n",
    "plt.ylabel('Accuracy')\n",
    "# plt.title('Accuracy Comparison between ibot and gfm')\n",
    "plt.legend()\n",
    "\n",
    "# Display the plot\n",
    "plt.show()"
   ]
  },
  {
   "cell_type": "code",
   "execution_count": null,
   "id": "df970de5-3ff5-4402-a86e-715695491dba",
   "metadata": {},
   "outputs": [],
   "source": []
  }
 ],
 "metadata": {
  "kernelspec": {
   "display_name": "Python 3 (ipykernel)",
   "language": "python",
   "name": "python3"
  },
  "language_info": {
   "codemirror_mode": {
    "name": "ipython",
    "version": 3
   },
   "file_extension": ".py",
   "mimetype": "text/x-python",
   "name": "python",
   "nbconvert_exporter": "python",
   "pygments_lexer": "ipython3",
   "version": "3.12.2"
  }
 },
 "nbformat": 4,
 "nbformat_minor": 5
}
